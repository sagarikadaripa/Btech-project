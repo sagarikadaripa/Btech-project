{
 "cells": [
  {
   "cell_type": "code",
   "execution_count": 3,
   "metadata": {},
   "outputs": [
    {
     "name": "stdout",
     "output_type": "stream",
     "text": [
      "Requirement already satisfied: pulp in c:\\users\\hp\\anaconda3\\lib\\site-packages (2.3.1)\n",
      "Requirement already satisfied: amply>=0.1.2 in c:\\users\\hp\\anaconda3\\lib\\site-packages (from pulp) (0.1.4)\n",
      "Requirement already satisfied: docutils>=0.3 in c:\\users\\hp\\anaconda3\\lib\\site-packages (from amply>=0.1.2->pulp) (0.16)\n",
      "Requirement already satisfied: pyparsing in c:\\users\\hp\\anaconda3\\lib\\site-packages (from amply>=0.1.2->pulp) (2.4.6)\n",
      "Note: you may need to restart the kernel to use updated packages.\n"
     ]
    }
   ],
   "source": [
    "pip install pulp"
   ]
  },
  {
   "cell_type": "code",
   "execution_count": 2,
   "metadata": {},
   "outputs": [
    {
     "name": "stdout",
     "output_type": "stream",
     "text": [
      "Decision variable values:\n",
      "D = 252.0\n",
      "S = 540.0\n",
      "\n",
      "Maximum Profit:\n"
     ]
    },
    {
     "data": {
      "text/plain": [
       "7668.0"
      ]
     },
     "execution_count": 2,
     "metadata": {},
     "output_type": "execute_result"
    }
   ],
   "source": [
    "import pulp\n",
    "\n",
    "D=pulp.LpVariable('D',lowBound=0)\n",
    "S=pulp.LpVariable('S',lowBound=0)\n",
    "\n",
    "profit=pulp.LpProblem('Maximum Profit',pulp.LpMaximize)\n",
    "profit+=10*S+9*D,'objective function'\n",
    "profit+=7/10*S+D<=630,'Constraint for cutting and dying'\n",
    "profit+=1/2*S+5/6*D<=600,'Constraint for sewing'\n",
    "profit+=S+2/3*D<=708,'Constraint for Finishing'\n",
    "profit+=1/10*S+1/4*D<=135,'Constraint for Inspection and packaging'\n",
    "\n",
    "profit.solve()\n",
    "\n",
    "print('Decision variable values:')\n",
    "for variable in profit.variables():\n",
    "    print(variable.name,'=',variable.varValue)\n",
    "\n",
    "print('\\nMaximum Profit:')\n",
    "pulp.value(profit.objective)"
   ]
  },
  {
   "cell_type": "code",
   "execution_count": null,
   "metadata": {},
   "outputs": [],
   "source": []
  }
 ],
 "metadata": {
  "kernelspec": {
   "display_name": "Python 3",
   "language": "python",
   "name": "python3"
  },
  "language_info": {
   "codemirror_mode": {
    "name": "ipython",
    "version": 3
   },
   "file_extension": ".py",
   "mimetype": "text/x-python",
   "name": "python",
   "nbconvert_exporter": "python",
   "pygments_lexer": "ipython3",
   "version": "3.7.6"
  }
 },
 "nbformat": 4,
 "nbformat_minor": 4
}
